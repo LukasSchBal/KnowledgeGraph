{
 "cells": [
  {
   "cell_type": "code",
   "execution_count": null,
   "metadata": {},
   "outputs": [],
   "source": [
    "import rdflib\n"
   ]
  },
  {
   "cell_type": "code",
   "execution_count": null,
   "metadata": {},
   "outputs": [],
   "source": [
    "# SELECT query\n",
    "\n",
    "g = rdflib.Graph()\n",
    "g.parse(\"http://danbri.org/foaf.rdf#\")\n",
    "\n",
    "knows_query = \"\"\"\n",
    "SELECT DISTINCT ?aname ?bname\n",
    "WHERE {\n",
    "    ?a foaf:knows ?b .\n",
    "    ?a foaf:name ?aname .\n",
    "    ?b foaf:name ?bname .\n",
    "}\"\"\"\n",
    "\n",
    "qres = g.query(knows_query)\n",
    "for row in qres:\n",
    "    print(f\"{row.aname} knows {row.bname}\")\n"
   ]
  },
  {
   "cell_type": "code",
   "execution_count": null,
   "metadata": {},
   "outputs": [],
   "source": [
    "# Query SPARQL endpoint\n",
    "\n",
    "g = rdflib.Graph()\n",
    "qres = g.query(\n",
    "    \"\"\"\n",
    "    SELECT ?s\n",
    "    WHERE {\n",
    "      SERVICE <http://dbpedia.org/sparql> {\n",
    "        ?s a ?o .\n",
    "      }\n",
    "    }\n",
    "    LIMIT 3\n",
    "    \"\"\"\n",
    ")\n",
    "\n",
    "for row in qres:\n",
    "    print(row.s)"
   ]
  }
 ],
 "metadata": {
  "kernelspec": {
   "display_name": "Python 3.8.10 ('venv')",
   "language": "python",
   "name": "python3"
  },
  "language_info": {
   "name": "python",
   "version": "3.8.10"
  },
  "orig_nbformat": 4,
  "vscode": {
   "interpreter": {
    "hash": "fbc3d2107c11789e84b745ccc2140d00f865bbefbc766bf26a14810b22c92313"
   }
  }
 },
 "nbformat": 4,
 "nbformat_minor": 2
}
