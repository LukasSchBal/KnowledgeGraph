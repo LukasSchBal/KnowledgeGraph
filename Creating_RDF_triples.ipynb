{
  "cells": [
    {
      "cell_type": "markdown",
      "metadata": {
        "id": "UDeikpHwyZzP"
      },
      "source": [
        "# **Creating RDF triples**\n",
        "\n",
        "RDF allows us to make statements about resources. A statement always has the following structure:\\\n",
        "`<subject> <predicate> <object>`.\n",
        "\n",
        "An RDF statement expresses a relationship between two resources. The subject and the object represent the two resources being related; the predicate represents the nature of their relationship. The relationship is phrased in a directional way (from subject to object) and is called in RDF a property. Because RDF statements consist of three elements they are called triples."
      ]
    },
    {
      "cell_type": "code",
      "execution_count": 1,
      "metadata": {
        "id": "4AMD49H9lYw2"
      },
      "outputs": [
        {
          "name": "stdout",
          "output_type": "stream",
          "text": [
            "Requirement already satisfied: rdflib in c:\\users\\lschulzebalhor\\git\\knowledgegraph\\venv\\lib\\site-packages (6.1.1)\n",
            "Requirement already satisfied: pyparsing in c:\\users\\lschulzebalhor\\git\\knowledgegraph\\venv\\lib\\site-packages (from rdflib) (3.0.9)\n",
            "Requirement already satisfied: setuptools in c:\\users\\lschulzebalhor\\git\\knowledgegraph\\venv\\lib\\site-packages (from rdflib) (56.0.0)\n",
            "Requirement already satisfied: isodate in c:\\users\\lschulzebalhor\\git\\knowledgegraph\\venv\\lib\\site-packages (from rdflib) (0.6.1)\n",
            "Requirement already satisfied: six in c:\\users\\lschulzebalhor\\git\\knowledgegraph\\venv\\lib\\site-packages (from isodate->rdflib) (1.16.0)\n"
          ]
        },
        {
          "name": "stderr",
          "output_type": "stream",
          "text": [
            "WARNING: You are using pip version 21.1.1; however, version 22.1.2 is available.\n",
            "You should consider upgrading via the 'c:\\users\\lschulzebalhor\\git\\knowledgegraph\\venv\\scripts\\python.exe -m pip install --upgrade pip' command.\n"
          ]
        }
      ],
      "source": [
        "!pip install rdflib"
      ]
    },
    {
      "cell_type": "markdown",
      "metadata": {
        "id": "403cvmM5AeaT"
      },
      "source": [
        "## Creating Nodes\n",
        "\n",
        "The subjects and objects of the triples make up the nodes in the graph where the nodes are URI references, Blank Nodes or Literals. In RDFLib, these node types are represented by the classes **URIRef**, **BNode**, **Literal**. *URIRefs* and *Bnodes* can both be thought of as resources, such a person, a company, a website, etc.\n",
        "- A *BNode* is a node where the exact URI is not known.\n",
        "- A *URIRef* is a node where the exact URI is know. *URIRefs* are also used to represent the properties/predicates in the RDF graph.\n",
        "- *Literals* represent attribute values, such as a name, a date, a number, etc. The most common literal values are XML data types, e.g. string, int.."
      ]
    },
    {
      "cell_type": "markdown",
      "metadata": {
        "id": "1I3neplrD8hy"
      },
      "source": [
        "## Example RDF Graph\n",
        "\n",
        "![RDF Graph](https://www.w3.org/TR/rdf11-primer/example-graph-iris.jpg)\n",
        "\n",
        "### (Informal) Representation of the Graph\n",
        "`<Bob> <is a> <person>.`\\\n",
        "`<Bob> <is a friend of> <Alice>.`\\\n",
        "`<Bob> <is born on> <the 4th of July 1990>.`\\\n",
        "`<Bob> <is interested in> <the Mona Lisa>.`\\\n",
        "`<the Mona Lisa> <was created by> <Leonardo da Vinci>.`\\\n",
        "`<the video 'La Joconde à Washington'> <is about> <the Mona Lisa>`"
      ]
    },
    {
      "cell_type": "code",
      "execution_count": 24,
      "metadata": {
        "id": "Y_qzkuxcAZRK"
      },
      "outputs": [],
      "source": [
        "from rdflib import URIRef, BNode, Literal, Namespace\n",
        "from rdflib.namespace import FOAF, DCTERMS, XSD, RDF, SDO\n",
        "\n",
        "mona_lisa = URIRef('http://www.wikidata.org/entity/Q12418')\n",
        "davinci = URIRef('http://dbpedia.org/resource/Leonardo_da_Vinci')\n",
        "lajoconde = URIRef('http://data.europeana.eu/item/04802/243FA8618938F4117025F17A8B813C5F9AA4D619')\n",
        "\n",
        "EX = Namespace('http://131.180.205.92:8890/')\n",
        "bob = EX['Bob']\n",
        "alice = EX['Alice']\n",
        "\n",
        "birth_date = Literal(\"1990-07-04\", datatype=XSD['date'])\n",
        "title = Literal('Mona Lisa', lang='en')"
      ]
    },
    {
      "cell_type": "code",
      "execution_count": 25,
      "metadata": {
        "colab": {
          "base_uri": "https://localhost:8080/",
          "height": 34
        },
        "id": "T9qhipQRGwuF",
        "outputId": "247840ca-209b-45f5-d788-3446e617a92f"
      },
      "outputs": [
        {
          "data": {
            "text/plain": [
              "rdflib.term.Literal('Mona Lisa', lang='en')"
            ]
          },
          "execution_count": 25,
          "metadata": {},
          "output_type": "execute_result"
        }
      ],
      "source": [
        "title"
      ]
    },
    {
      "cell_type": "code",
      "execution_count": 26,
      "metadata": {
        "id": "tC1iLOCkHnyS"
      },
      "outputs": [
        {
          "data": {
            "text/plain": [
              "<Graph identifier=N425fdb82f4ea42edadd6579d0ae25395 (<class 'rdflib.graph.Graph'>)>"
            ]
          },
          "execution_count": 26,
          "metadata": {},
          "output_type": "execute_result"
        }
      ],
      "source": [
        "from rdflib import Graph\n",
        "g = Graph()\n",
        "\n",
        "# Bind prefix to namespace\n",
        "g.bind('ex', EX)\n",
        "g.bind('foaf', FOAF)\n",
        "g.bind('schema', SDO)\n",
        "g.bind('dcterms', DCTERMS)\n",
        "\n",
        "g.add((bob, RDF.type, FOAF.Person))\n",
        "g.add((bob, FOAF.knows, alice))\n",
        "g.add((bob, FOAF['topic_interest'], mona_lisa))\n",
        "g.add((bob, SDO['birthDate'], birth_date))\n",
        "g.add((mona_lisa, DCTERMS['creator'], davinci))\n",
        "g.add((mona_lisa, DCTERMS['title'], title))\n",
        "g.add((lajoconde, DCTERMS['subject'], mona_lisa))"
      ]
    },
    {
      "cell_type": "markdown",
      "metadata": {},
      "source": [
        "Print the graph. The different formats are triple 'ttl' or xml 'xml'."
      ]
    },
    {
      "cell_type": "code",
      "execution_count": 27,
      "metadata": {
        "colab": {
          "base_uri": "https://localhost:8080/",
          "height": 336
        },
        "id": "QT9iENftKa5v",
        "outputId": "eb756a97-a503-4272-adf3-dbc383df5cd8"
      },
      "outputs": [
        {
          "name": "stdout",
          "output_type": "stream",
          "text": [
            "@prefix dcterms: <http://purl.org/dc/terms/> .\n",
            "@prefix ex: <http://131.180.205.92:8890/> .\n",
            "@prefix foaf: <http://xmlns.com/foaf/0.1/> .\n",
            "@prefix schema: <https://schema.org/> .\n",
            "@prefix xsd: <http://www.w3.org/2001/XMLSchema#> .\n",
            "\n",
            "ex:Bob a foaf:Person ;\n",
            "    foaf:knows ex:Alice ;\n",
            "    foaf:topic_interest <http://www.wikidata.org/entity/Q12418> ;\n",
            "    schema:birthDate \"1990-07-04\"^^xsd:date .\n",
            "\n",
            "<http://data.europeana.eu/item/04802/243FA8618938F4117025F17A8B813C5F9AA4D619> dcterms:subject <http://www.wikidata.org/entity/Q12418> .\n",
            "\n",
            "<http://www.wikidata.org/entity/Q12418> dcterms:creator <http://dbpedia.org/resource/Leonardo_da_Vinci> ;\n",
            "    dcterms:title \"Mona Lisa\"@en .\n",
            "\n",
            "\n"
          ]
        }
      ],
      "source": [
        "print(g.serialize(format='ttl'))"
      ]
    },
    {
      "cell_type": "markdown",
      "metadata": {},
      "source": [
        "Bind prefix to namespace."
      ]
    },
    {
      "cell_type": "code",
      "execution_count": 28,
      "metadata": {
        "id": "plbCFQQRVR2i"
      },
      "outputs": [],
      "source": [
        "g.bind('ex', EX)\n",
        "g.bind('foaf', FOAF)\n",
        "g.bind('schema', SDO)\n",
        "g.bind('dcterms', DCTERMS)"
      ]
    },
    {
      "cell_type": "code",
      "execution_count": 29,
      "metadata": {
        "colab": {
          "base_uri": "https://localhost:8080/",
          "height": 158
        },
        "id": "93g6ggp7d-Ux",
        "outputId": "873d09ba-29d3-4b79-f8ca-a3ca86c4e21e"
      },
      "outputs": [
        {
          "name": "stdout",
          "output_type": "stream",
          "text": [
            "brick https://brickschema.org/schema/Brick#\n",
            "csvw http://www.w3.org/ns/csvw#\n",
            "dc http://purl.org/dc/elements/1.1/\n",
            "dcat http://www.w3.org/ns/dcat#\n",
            "dcmitype http://purl.org/dc/dcmitype/\n",
            "dcterms http://purl.org/dc/terms/\n",
            "dcam http://purl.org/dc/dcam/\n",
            "doap http://usefulinc.com/ns/doap#\n",
            "foaf http://xmlns.com/foaf/0.1/\n",
            "odrl http://www.w3.org/ns/odrl/2/\n",
            "org http://www.w3.org/ns/org#\n",
            "owl http://www.w3.org/2002/07/owl#\n",
            "prof http://www.w3.org/ns/dx/prof/\n",
            "prov http://www.w3.org/ns/prov#\n",
            "qb http://purl.org/linked-data/cube#\n",
            "rdf http://www.w3.org/1999/02/22-rdf-syntax-ns#\n",
            "rdfs http://www.w3.org/2000/01/rdf-schema#\n",
            "schema https://schema.org/\n",
            "sh http://www.w3.org/ns/shacl#\n",
            "skos http://www.w3.org/2004/02/skos/core#\n",
            "sosa http://www.w3.org/ns/sosa/\n",
            "ssn http://www.w3.org/ns/ssn/\n",
            "time http://www.w3.org/2006/time#\n",
            "vann http://purl.org/vocab/vann/\n",
            "void http://rdfs.org/ns/void#\n",
            "xsd http://www.w3.org/2001/XMLSchema#\n",
            "xml http://www.w3.org/XML/1998/namespace\n",
            "ex http://131.180.205.92:8890/\n"
          ]
        }
      ],
      "source": [
        "for prefix, ns in g.namespaces():\n",
        "    print(prefix, ns)"
      ]
    },
    {
      "cell_type": "markdown",
      "metadata": {},
      "source": [
        "Let's assume we made a mistake and want to change the graph. Replace the literal value with the set method. The arguments are a tuple again, consisting of subject, predicate and object."
      ]
    },
    {
      "cell_type": "code",
      "execution_count": 30,
      "metadata": {
        "id": "RPD0CbIrllVX"
      },
      "outputs": [
        {
          "data": {
            "text/plain": [
              "<Graph identifier=N425fdb82f4ea42edadd6579d0ae25395 (<class 'rdflib.graph.Graph'>)>"
            ]
          },
          "execution_count": 30,
          "metadata": {},
          "output_type": "execute_result"
        }
      ],
      "source": [
        "g.set((bob, SDO['birthDate'], Literal('1990-01-01', datatype=XSD.date)))\n",
        "g.set((mona_lisa, DCTERMS['title'], Literal('La Joconde', lang='fr')))"
      ]
    },
    {
      "cell_type": "code",
      "execution_count": 31,
      "metadata": {
        "colab": {
          "base_uri": "https://localhost:8080/",
          "height": 336
        },
        "id": "tW8PWdoknUUW",
        "outputId": "52da0123-6faf-4d7e-97c2-517ffc4b6a19"
      },
      "outputs": [
        {
          "name": "stdout",
          "output_type": "stream",
          "text": [
            "@prefix dcterms: <http://purl.org/dc/terms/> .\n",
            "@prefix ex: <http://131.180.205.92:8890/> .\n",
            "@prefix foaf: <http://xmlns.com/foaf/0.1/> .\n",
            "@prefix schema: <https://schema.org/> .\n",
            "@prefix xsd: <http://www.w3.org/2001/XMLSchema#> .\n",
            "\n",
            "ex:Bob a foaf:Person ;\n",
            "    foaf:knows ex:Alice ;\n",
            "    foaf:topic_interest <http://www.wikidata.org/entity/Q12418> ;\n",
            "    schema:birthDate \"1990-01-01\"^^xsd:date .\n",
            "\n",
            "<http://data.europeana.eu/item/04802/243FA8618938F4117025F17A8B813C5F9AA4D619> dcterms:subject <http://www.wikidata.org/entity/Q12418> .\n",
            "\n",
            "<http://www.wikidata.org/entity/Q12418> dcterms:creator <http://dbpedia.org/resource/Leonardo_da_Vinci> ;\n",
            "    dcterms:title \"La Joconde\"@fr .\n",
            "\n",
            "\n"
          ]
        }
      ],
      "source": [
        "print(g.serialize(format='ttl'))"
      ]
    },
    {
      "cell_type": "markdown",
      "metadata": {},
      "source": [
        "Remove triples from graph."
      ]
    },
    {
      "cell_type": "code",
      "execution_count": 32,
      "metadata": {
        "id": "GKYY3rgJn46N"
      },
      "outputs": [
        {
          "data": {
            "text/plain": [
              "<Graph identifier=N425fdb82f4ea42edadd6579d0ae25395 (<class 'rdflib.graph.Graph'>)>"
            ]
          },
          "execution_count": 32,
          "metadata": {},
          "output_type": "execute_result"
        }
      ],
      "source": [
        "g.remove((mona_lisa, None, None))"
      ]
    },
    {
      "cell_type": "code",
      "execution_count": 33,
      "metadata": {
        "colab": {
          "base_uri": "https://localhost:8080/",
          "height": 210
        },
        "id": "Pw1nwUjMoAid",
        "outputId": "bad62286-8246-4eed-9b67-7f93f7c2a890"
      },
      "outputs": [
        {
          "name": "stdout",
          "output_type": "stream",
          "text": [
            "@prefix dcterms: <http://purl.org/dc/terms/> .\n",
            "@prefix ex: <http://131.180.205.92:8890/> .\n",
            "@prefix foaf: <http://xmlns.com/foaf/0.1/> .\n",
            "@prefix schema: <https://schema.org/> .\n",
            "@prefix xsd: <http://www.w3.org/2001/XMLSchema#> .\n",
            "\n",
            "ex:Bob a foaf:Person ;\n",
            "    foaf:knows ex:Alice ;\n",
            "    foaf:topic_interest <http://www.wikidata.org/entity/Q12418> ;\n",
            "    schema:birthDate \"1990-01-01\"^^xsd:date .\n",
            "\n",
            "<http://data.europeana.eu/item/04802/243FA8618938F4117025F17A8B813C5F9AA4D619> dcterms:subject <http://www.wikidata.org/entity/Q12418> .\n",
            "\n",
            "\n"
          ]
        }
      ],
      "source": [
        "print(g.serialize(format='ttl'))"
      ]
    }
  ],
  "metadata": {
    "colab": {
      "collapsed_sections": [],
      "name": "Creating RDF triples",
      "provenance": []
    },
    "kernelspec": {
      "display_name": "Python 3.8.10 ('venv')",
      "language": "python",
      "name": "python3"
    },
    "language_info": {
      "codemirror_mode": {
        "name": "ipython",
        "version": 3
      },
      "file_extension": ".py",
      "mimetype": "text/x-python",
      "name": "python",
      "nbconvert_exporter": "python",
      "pygments_lexer": "ipython3",
      "version": "3.8.10"
    },
    "vscode": {
      "interpreter": {
        "hash": "fbc3d2107c11789e84b745ccc2140d00f865bbefbc766bf26a14810b22c92313"
      }
    }
  },
  "nbformat": 4,
  "nbformat_minor": 0
}
